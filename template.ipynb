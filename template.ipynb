{
  "nbformat": 4,
  "nbformat_minor": 0,
  "metadata": {
    "file_extension": ".py",
    "kernelspec": {
      "display_name": "Python 3",
      "language": "python",
      "name": "python3"
    },
    "language_info": {
      "codemirror_mode": {
        "name": "ipython",
        "version": 3
      },
      "file_extension": ".py",
      "mimetype": "text/x-python",
      "name": "python",
      "nbconvert_exporter": "python",
      "pygments_lexer": "ipython3",
      "version": "3.7.6"
    },
    "mimetype": "text/x-python",
    "name": "python",
    "npconvert_exporter": "python",
    "pygments_lexer": "ipython3",
    "version": 3,
    "colab": {
      "name": "template.ipynb",
      "provenance": []
    }
  },
  "cells": [
    {
      "cell_type": "markdown",
      "metadata": {
        "id": "Mm9EFxi5GScH",
        "colab_type": "text"
      },
      "source": [
        "# Projeto #3 - Meu primeiro projeto de IA\n",
        "\n",
        "Antes de começar, leia as [Instruções](https://github.com/thvmm/pos-ds-ia/blob/master/projeto_3/README.md) e os [Critérios de Avaliação](https://github.com/thvmm/pos-ds-ia/blob/master/projeto_3/README.md).\n"
      ]
    },
    {
      "cell_type": "markdown",
      "metadata": {
        "id": "KFX-Ja6HGScJ",
        "colab_type": "text"
      },
      "source": [
        "### 1) **(5%)** Qual a base escolhida e qual seu interesse nela (podem ser mais de uma)? Descrição básica do conjunto de dados escolhido pelo aluno (1 parágrafo)."
      ]
    },
    {
      "cell_type": "markdown",
      "metadata": {
        "id": "CDmQROFAIBxP",
        "colab_type": "text"
      },
      "source": [
        "1.Bases primaria: https://www.kaggle.com/austinreese/goodreads-books<bR>\n",
        "2.Bases complementar: https://www.kaggle.com/jealousleopard/goodreadsbooks\n",
        "\n",
        "Escolhi essas bases porque curto muito leitura e gostaria de saber que relação existem entre os usuarios dessa redes social de livros e os livros avaliados.\n",
        "\n",
        "Vou trabalhar com dados de 'rating' para entender quem avalia e como avaliam os livros, e os 'authors' autores mais avaliados bem como os livros que tiveram mais comentarios e melhores avaliações"
      ]
    },
    {
      "cell_type": "markdown",
      "metadata": {
        "id": "FxZRBZGxGScK",
        "colab_type": "text"
      },
      "source": [
        "### 2) **(5%)** Que tipo de problema podemos solucionar com ela? Liste ao menos 3 hipóteses sobre seus dados, caso sua base seja muito restrita converse com os professores antes de seguir.\n",
        "- Quais são suas hipoteses sobre os dados? O que vc espera descobrir com esse estudo?\n",
        "\n",
        "Ex: Hipoteses válidas seriam:\n",
        "- As pessoas fazem mais compras nos dias utéis ou finais de semana?\n",
        "- Existe diferença entre o padrão de compra de segunda ou terça feira?\n",
        "- O horário de pico influencia no padrão de compra dos clientes?\n",
        "- Quais produtos são comprados mais juntos? Existe diferença se observarmos a idade do cliente?\n",
        "- Qual o efeito de uma campanha de marketing nas vendas?\n"
      ]
    },
    {
      "cell_type": "markdown",
      "metadata": {
        "id": "9BWBqMv8J4fv",
        "colab_type": "text"
      },
      "source": [
        "<i>Como a base trata-se de usuarios da rede social de livros. Minhas hipoteses são:\n",
        "\n",
        "Os livros com mais comentários tem maiores notas de avaliação?<br>\n",
        "Os autores que mais publicam livros tem melhores avaliações?<br>\n",
        "Existe relação entre as notas e a quantidade de paginas dos livros?<br>"
      ]
    },
    {
      "cell_type": "markdown",
      "metadata": {
        "id": "vXWv7pWvGScL",
        "colab_type": "text"
      },
      "source": [
        "### 3) **(20%)** Preparação de dados\n",
        "\n",
        "Hora de deixar a base perfeita para se trabalhar. Limpe os dados, integre com outras fontes e transforme-o para ficar pronto para se trabalhar! No fim, mostre um antes e depois de seu dataframe."
      ]
    },
    {
      "cell_type": "code",
      "metadata": {
        "id": "jcJBTJEzGScM",
        "colab_type": "code",
        "colab": {}
      },
      "source": [
        "# Implemente sua análise aqui. Use mais blocos se achar que ficará mais organizado."
      ],
      "execution_count": null,
      "outputs": []
    },
    {
      "cell_type": "markdown",
      "metadata": {
        "id": "NbPiGXvEGScR",
        "colab_type": "text"
      },
      "source": [
        "### 4) **(30%)** Análise\n",
        "\n",
        "Com seu dado pronto, é hora de fazer a parte mais legal: investigar e responder nossas hipoteses. Elas se confirmam? Em quais cenários? Existe alguma forma de perceber isso no mundo real? Dica: Abuse das técnicas de visualização.\n",
        "\n",
        "Ex: Ainda no contexto dos exemplos do item 2). Ao investigar a hipotese relacionada ao padrão de compra, percebi que em todos os meses existia uma diferença entre dia util e final de semana. Porém notei que Fevereiro possui um comportamento diferente, o que poderia explicar? Talvez o carnaval e seus feriados.\n",
        "\n",
        "Ex2: Talvez eu descubra que alguns finais de semana possuam um comportamento diferente dos dias de semana e outros não. Por que não são todos? Nessa investigação você pode acabar descobrindo que os finais de semana que são diferentes, coincidem no fato de serem os primeiros dias utéis, o que pode remeter ao fato de boa parte das empresas realizarem pagamentos nessa parte do mês."
      ]
    },
    {
      "cell_type": "code",
      "metadata": {
        "id": "x89J5FLCGScR",
        "colab_type": "code",
        "colab": {}
      },
      "source": [
        "# Implemente sua análise aqui. Use mais blocos se achar que ficará mais organizado."
      ],
      "execution_count": null,
      "outputs": []
    },
    {
      "cell_type": "markdown",
      "metadata": {
        "id": "6zgYAAFUGScV",
        "colab_type": "text"
      },
      "source": [
        "### 5) Modelagem 30%\n",
        "\n",
        "Agora você terá mais uma oportunidade de mostrar o que você aprendeu durante o módulo 2 quanto a modelagem de dados e criação de modelos. Utilizando os dados preparados na seção 1 e após a análise feita na seção 2 você deverá:\n",
        "1. **Defina um problema de regressão ou classificação que envolva uma variável dos seus dados.**"
      ]
    },
    {
      "cell_type": "markdown",
      "metadata": {
        "id": "JNIt_HHsGScV",
        "colab_type": "text"
      },
      "source": [
        "***---> Comente brevemente sua decisão aqui.***"
      ]
    },
    {
      "cell_type": "markdown",
      "metadata": {
        "id": "yHW29rz4GScW",
        "colab_type": "text"
      },
      "source": [
        "2. **Realize ao menos 2 técnicas de processamento e seleção de features.**\n",
        "    * Isto inclui, normalização, PCA, e técnicas de seleção de features como information gain. Seja criativo pois está parte é crucial para seu modelo. Você pode escolhar manualmente as features desde que seja justificada na seção 2 (parte de Análise).\n"
      ]
    },
    {
      "cell_type": "code",
      "metadata": {
        "id": "qEh4ga2AGScW",
        "colab_type": "code",
        "colab": {}
      },
      "source": [
        ""
      ],
      "execution_count": null,
      "outputs": []
    },
    {
      "cell_type": "markdown",
      "metadata": {
        "id": "gAOPkzEvGScZ",
        "colab_type": "text"
      },
      "source": [
        "3. **Defina uma métrica para avaliar o seu modelo.**\n",
        "    * Por exemplo, você pode utilizar MAE (Mean Absolute Error) para um problema de regressão. Ou, F1-Score para um problema de classificação. Há varias métricas, então escolha sabiamente.\n"
      ]
    },
    {
      "cell_type": "markdown",
      "metadata": {
        "id": "XGXuRXOfGScc",
        "colab_type": "text"
      },
      "source": [
        "***---> Comente brevemente sua decisão aqui.***"
      ]
    },
    {
      "cell_type": "markdown",
      "metadata": {
        "id": "-o2OJ89MGScc",
        "colab_type": "text"
      },
      "source": [
        "4. **Divida seus dados em 2 conjuntos. Um de treino e outro conjunto de teste.**\n",
        "    * Treine e otimize seu modelo no conjunto de treino e apenas use o conjunto de teste para apresentar os resultados finais.\n"
      ]
    },
    {
      "cell_type": "code",
      "metadata": {
        "id": "-qetW20MGScd",
        "colab_type": "code",
        "colab": {}
      },
      "source": [
        ""
      ],
      "execution_count": null,
      "outputs": []
    },
    {
      "cell_type": "markdown",
      "metadata": {
        "id": "RsyFzirkGScg",
        "colab_type": "text"
      },
      "source": [
        "5. **Treine um ou mais modelos de ML para o seu problema.**\n",
        "    * Escolha 1 ou mais tipos de classificadores ou regressores dependendo do seu problema.\n",
        "    * Por exemplo, TreeClassifier para um problema de classificação. \n",
        "    * Use cross-validation e outras técnicas como GridSearch e ou RandomizedSearch para encontrar os melhores parametros para o seu modelo.\n"
      ]
    },
    {
      "cell_type": "code",
      "metadata": {
        "id": "9wPnuVpLGScg",
        "colab_type": "code",
        "colab": {}
      },
      "source": [
        ""
      ],
      "execution_count": null,
      "outputs": []
    },
    {
      "cell_type": "markdown",
      "metadata": {
        "id": "xgk1fA_DGSck",
        "colab_type": "text"
      },
      "source": [
        "6. **Apresente (com visualizações) os resultados do seu modelo mostrando que ele é melhor do que um baseline não aleatório.**\n",
        "    * Para o baseline, você pode escolher um modelo bem trivial mas não aleatório. Por exemplo, para um problema de classificação um baseline pode ser a classe mais presente caso o conjunto de dados seja desbalanceado.  Um modelo mais simples também pode ser utilizado como baseline, por exemplo, você escolheu um Random Forest Classifier, e comparou os resultados um Logistic Regression. Você pode até mesmo escolher um modelo de AutoML(como TPOT) como Baseline."
      ]
    },
    {
      "cell_type": "code",
      "metadata": {
        "id": "ngDvzT13GSck",
        "colab_type": "code",
        "colab": {}
      },
      "source": [
        ""
      ],
      "execution_count": null,
      "outputs": []
    },
    {
      "cell_type": "markdown",
      "metadata": {
        "id": "UfvccnbvGScn",
        "colab_type": "text"
      },
      "source": [
        "### 6) Conclusões **10%**"
      ]
    },
    {
      "cell_type": "markdown",
      "metadata": {
        "id": "D5l7WAJdGSco",
        "colab_type": "text"
      },
      "source": [
        "*Partindo das suas hipoteses e investigações, o que você consegue concluir? Suas hipoteses se concretizaram?*"
      ]
    },
    {
      "cell_type": "markdown",
      "metadata": {
        "id": "Neg4U3-NGSco",
        "colab_type": "text"
      },
      "source": [
        ""
      ]
    }
  ]
}